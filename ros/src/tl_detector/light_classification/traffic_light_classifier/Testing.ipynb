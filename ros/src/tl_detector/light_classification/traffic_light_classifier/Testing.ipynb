{
 "cells": [
  {
   "cell_type": "code",
   "execution_count": 2,
   "metadata": {},
   "outputs": [],
   "source": [
    "import os\n",
    "import csv\n",
    "import numpy as np\n",
    "from keras.layers import Input, Flatten, Dense, Lambda, Convolution2D, MaxPooling2D, Cropping2D, Conv2D\n",
    "from keras.layers.core import Dropout\n",
    "import keras\n",
    "from keras.models import Sequential, load_model\n",
    "from PIL import Image\n",
    "import io\n",
    "import sys, getopt\n",
    "import glob"
   ]
  },
  {
   "cell_type": "code",
   "execution_count": 4,
   "metadata": {
    "scrolled": false
   },
   "outputs": [
    {
     "name": "stdout",
     "output_type": "stream",
     "text": [
      "./test_img/im7.jpg\n",
      "Pred 1: Yellow 95.218%\n",
      "Pred 2: Green 4.782%\n",
      "Pred 3: Red 0.000%\n",
      "---------------------------------------\n",
      "./test_img/im6.jpg\n",
      "Pred 1: Green 100.000%\n",
      "Pred 2: Red 0.000%\n",
      "Pred 3: Yellow 0.000%\n",
      "---------------------------------------\n",
      "./test_img/im5.jpg\n",
      "Pred 1: Red 100.000%\n",
      "Pred 2: Green 0.000%\n",
      "Pred 3: Yellow 0.000%\n",
      "---------------------------------------\n",
      "./test_img/im9.jpeg\n",
      "Pred 1: Red 100.000%\n",
      "Pred 2: Green 0.000%\n",
      "Pred 3: Yellow 0.000%\n",
      "---------------------------------------\n",
      "./test_img/im8.jpeg\n",
      "Pred 1: Green 99.899%\n",
      "Pred 2: Yellow 0.062%\n",
      "Pred 3: Red 0.039%\n",
      "---------------------------------------\n",
      "./test_img/im1.jpg\n",
      "Pred 1: Red 96.868%\n",
      "Pred 2: Yellow 2.863%\n",
      "Pred 3: Green 0.269%\n",
      "---------------------------------------\n",
      "./test_img/im2.jpg\n",
      "Pred 1: Green 100.000%\n",
      "Pred 2: Yellow 0.000%\n",
      "Pred 3: Red 0.000%\n",
      "---------------------------------------\n",
      "./test_img/im3.jpg\n",
      "Pred 1: Green 100.000%\n",
      "Pred 2: Yellow 0.000%\n",
      "Pred 3: Red 0.000%\n",
      "---------------------------------------\n",
      "./test_img/im13.jpg\n",
      "Pred 1: Green 100.000%\n",
      "Pred 2: Yellow 0.000%\n",
      "Pred 3: Red 0.000%\n",
      "---------------------------------------\n",
      "./test_img/im11.jpg\n",
      "Pred 1: Green 100.000%\n",
      "Pred 2: Yellow 0.000%\n",
      "Pred 3: Red 0.000%\n",
      "---------------------------------------\n",
      "./test_img/im14.jpeg\n",
      "Pred 1: Green 100.000%\n",
      "Pred 2: Yellow 0.000%\n",
      "Pred 3: Red 0.000%\n",
      "---------------------------------------\n",
      "./test_img/im10.jpg\n",
      "Pred 1: Green 100.000%\n",
      "Pred 2: Yellow 0.000%\n",
      "Pred 3: Red 0.000%\n",
      "---------------------------------------\n",
      "./test_img/im12.jpeg\n",
      "Pred 1: Green 100.000%\n",
      "Pred 2: Yellow 0.000%\n",
      "Pred 3: Red 0.000%\n",
      "---------------------------------------\n"
     ]
    }
   ],
   "source": [
    "tf_model = load_model('model_v9.h5')\n",
    "all_classes=['Red', 'Yellow', 'Green']\n",
    "X_test_path = glob.glob('./test_img/*')\n",
    "X_test_list=[]\n",
    "RESIZE=32\n",
    "for im_path in X_test_path:\n",
    "    im = np.asarray(Image.open(im_path).resize((RESIZE,RESIZE)))\n",
    "    X_test_list.append(im)\n",
    "\n",
    "X_test= np.array(X_test_list)\n",
    "\n",
    "preds = tf_model.predict(X_test)\n",
    "for i in range(len(preds)):\n",
    "    pred = preds[i]\n",
    "    print(X_test_path[i])\n",
    "    img = Image.open(X_test_path[i])\n",
    "    top_3 = np.argsort(pred)[-3:][::-1]\n",
    "    \n",
    "    print(\"Pred 1: {} {:.3f}%\".format(all_classes[top_3[0]],100*pred[top_3[0]]))\n",
    "    print(\"Pred 2: {} {:.3f}%\".format(all_classes[top_3[1]],100*pred[top_3[1]]))\n",
    "    print(\"Pred 3: {} {:.3f}%\".format(all_classes[top_3[2]],100*pred[top_3[2]]))\n",
    "#     plt.figure(figsize=(5,5))\n",
    "#     plt.imshow(img)\n",
    "#     plt.show()\n",
    "    print('---------------------------------------')\n",
    "    i+=1"
   ]
  },
  {
   "cell_type": "code",
   "execution_count": null,
   "metadata": {},
   "outputs": [],
   "source": []
  }
 ],
 "metadata": {
  "kernelspec": {
   "display_name": "Python 3",
   "language": "python",
   "name": "python3"
  },
  "language_info": {
   "codemirror_mode": {
    "name": "ipython",
    "version": 2
   },
   "file_extension": ".py",
   "mimetype": "text/x-python",
   "name": "python",
   "nbconvert_exporter": "python",
   "pygments_lexer": "ipython2",
   "version": "2.7.12"
  }
 },
 "nbformat": 4,
 "nbformat_minor": 2
}
