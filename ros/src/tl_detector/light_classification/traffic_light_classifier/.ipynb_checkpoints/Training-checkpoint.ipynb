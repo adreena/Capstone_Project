{
 "cells": [
  {
   "cell_type": "code",
   "execution_count": 1,
   "metadata": {},
   "outputs": [
    {
     "name": "stderr",
     "output_type": "stream",
     "text": [
      "Using TensorFlow backend.\n"
     ]
    }
   ],
   "source": [
    "import os\n",
    "import csv\n",
    "import numpy as np\n",
    "from keras.layers import Input, Flatten, Dense, Lambda, Convolution2D, MaxPooling2D, Cropping2D, Conv2D\n",
    "from keras.layers.core import Dropout\n",
    "import keras\n",
    "from keras.models import Sequential, load_model\n",
    "from keras.callbacks import TensorBoard\n",
    "from PIL import Image\n",
    "import io\n",
    "from sklearn.model_selection import train_test_split\n",
    "from sklearn.utils import shuffle\n",
    "import boto3\n",
    "import sys, getopt\n",
    "import matplotlib\n",
    "matplotlib.use('Agg') # Must be before importing matplotlib.pyplot or pylab!\n",
    "import matplotlib.pyplot as plt\n",
    "import glob\n",
    "import tensorflow as tf\n",
    "s3 = boto3.resource('s3')"
   ]
  },
  {
   "cell_type": "code",
   "execution_count": 2,
   "metadata": {},
   "outputs": [
    {
     "name": "stdout",
     "output_type": "stream",
     "text": [
      "1.3.0\n"
     ]
    }
   ],
   "source": [
    "print(tf.__version__)"
   ]
  },
  {
   "cell_type": "code",
   "execution_count": 3,
   "metadata": {},
   "outputs": [],
   "source": [
    "def load_data_from_s3(path):\n",
    "    data =[]\n",
    "\n",
    "    with open('./csv_classes.csv') as csvfile:\n",
    "        reader = csv.reader(csvfile)\n",
    "        line_count = 0\n",
    "        for line in reader:\n",
    "            if line_count>0:\n",
    "                image = line[0]\n",
    "                color = line[1]\n",
    "                data.append(([image,color]))\n",
    "               \n",
    "            line_count+=1\n",
    "    return data\n",
    "\n",
    "\n",
    "def get_image(bucket,sample,resize):\n",
    "    try:\n",
    "        key= sample[0]\n",
    "        image_obj = s3.Object(bucket, key)\n",
    "        image = io.BytesIO(image_obj.get()['Body'].read())\n",
    "        image = np.asarray(Image.open(image).resize((resize,resize)))\n",
    "#         image= np.asarray( Image.open(image), dtype=\"int32\" )\n",
    "        return image\n",
    "    except Exception as err:\n",
    "        print(err)\n",
    "\n",
    "\n",
    "def generator(bucket,samples,n_classes, batch_size = 32, resize=32):\n",
    "    while True:\n",
    "        for offset in range(0,len(samples), batch_size):\n",
    "            start = offset\n",
    "            end = offset+batch_size\n",
    "            batch_sample = samples[start:end]\n",
    "            images=[]\n",
    "            colors=[]\n",
    "            for sample in batch_sample:\n",
    "                #get images\n",
    "                image = get_image(bucket, sample, resize)\n",
    "                images.append(image)\n",
    "                colors.append(keras.utils.to_categorical(sample[1], n_classes))\n",
    "\n",
    "            x = np.array(images)\n",
    "            y = np.array(colors)\n",
    "            yield shuffle(x,y)"
   ]
  },
  {
   "cell_type": "code",
   "execution_count": 4,
   "metadata": {},
   "outputs": [],
   "source": [
    "def run_model(bucket, train_data,validation_data, num_classes,epochs, model_name, resize=32):\n",
    "    train_generator = generator(bucket, train_data,num_classes , resize=resize)\n",
    "    val_generator = generator(bucket, validation_data,num_classes, resize=resize)\n",
    "    \n",
    "    model = Sequential()\n",
    "    model.add(Lambda(lambda train_generator:train_generator, input_shape=(resize,resize,3)))\n",
    "\n",
    "    model.add(Conv2D(6, kernel_size=(5,5), activation='relu',init='he_normal'))\n",
    "    model.add(MaxPooling2D(pool_size=(2,2)))\n",
    "\n",
    "    model.add(Conv2D(16, kernel_size=(5,5), activation='relu',init='he_normal'))\n",
    "    model.add(MaxPooling2D(pool_size=(2,2)))\n",
    "\n",
    "    model.add(Flatten())\n",
    "\n",
    "    model.add(Dense(120, activation='relu',init='he_normal'))\n",
    "    model.add(Dropout(0.5))\n",
    "\n",
    "    model.add(Dense(84,activation='relu',init='he_normal'))\n",
    "    model.add(Dropout(0.5))\n",
    "\n",
    "    model.add(Dense(num_classes,activation='softmax',init='he_normal'))\n",
    "\n",
    "    optimizer = keras.optimizers.Adam(lr=0.001, beta_1=0.9, beta_2=0.999, epsilon=1e-08, decay=0.0)\n",
    "\n",
    "    model.compile(optimizer=optimizer, metrics=['accuracy', 'top_k_categorical_accuracy'], loss='categorical_crossentropy')\n",
    "    tensorbrd = TensorBoard('./logs/{}'.format(model_name))\n",
    "    \n",
    "    model.fit_generator(train_generator, steps_per_epoch=int(len(train_data)/32),epochs=epochs,\\\n",
    "                        validation_steps=int(len(validation_data)/32),validation_data = val_generator,\\\n",
    "                        verbose=1, initial_epoch=0, callbacks=[tensorbrd])\n",
    "\n",
    "    \n",
    "    \n",
    "    return model"
   ]
  },
  {
   "cell_type": "code",
   "execution_count": 5,
   "metadata": {},
   "outputs": [],
   "source": [
    "# Red: 0, Yellow : 1, Green 2\n",
    "\n",
    "def start():\n",
    "    bucket = 'capstone-trafficlights'\n",
    "    classes = ['Red', 'Yellow', 'Green']\n",
    "    model_name= 'model_v6'\n",
    "    resize = 32\n",
    "    epochs=15\n",
    "    try:\n",
    "        print(\"\\u2713 Bucket recieved: {}\".format(bucket))\n",
    "        print(\" Loading Data ... \")\n",
    "        # create a directory to store driving_log.csv of the target bucke\n",
    "        if not os.path.exists(bucket):\n",
    "            data = load_data_from_s3(bucket)\n",
    "            train_data, validation_data = train_test_split(data, test_size=0.2)\n",
    "            model = run_model(bucket, train_data, validation_data, len(classes), epochs,model_name=model_name, resize=resize)\n",
    "            model.save('./{}.h5'.format(model_name))\n",
    "    except Exception as err:\n",
    "        print(err)"
   ]
  },
  {
   "cell_type": "code",
   "execution_count": 6,
   "metadata": {},
   "outputs": [
    {
     "name": "stdout",
     "output_type": "stream",
     "text": [
      "\\u2713 Bucket recieved: capstone-trafficlights\n",
      " Loading Data ... \n"
     ]
    },
    {
     "name": "stderr",
     "output_type": "stream",
     "text": [
      "/home/ec2-user/miniconda2/envs/tl/lib/python2.7/site-packages/ipykernel_launcher.py:8: UserWarning: Update your `Conv2D` call to the Keras 2 API: `Conv2D(6, kernel_initializer=\"he_normal\", activation=\"relu\", kernel_size=(5, 5))`\n",
      "  \n",
      "/home/ec2-user/miniconda2/envs/tl/lib/python2.7/site-packages/ipykernel_launcher.py:11: UserWarning: Update your `Conv2D` call to the Keras 2 API: `Conv2D(16, kernel_initializer=\"he_normal\", activation=\"relu\", kernel_size=(5, 5))`\n",
      "  # This is added back by InteractiveShellApp.init_path()\n",
      "/home/ec2-user/miniconda2/envs/tl/lib/python2.7/site-packages/ipykernel_launcher.py:16: UserWarning: Update your `Dense` call to the Keras 2 API: `Dense(120, kernel_initializer=\"he_normal\", activation=\"relu\")`\n",
      "  app.launch_new_instance()\n",
      "/home/ec2-user/miniconda2/envs/tl/lib/python2.7/site-packages/ipykernel_launcher.py:19: UserWarning: Update your `Dense` call to the Keras 2 API: `Dense(84, kernel_initializer=\"he_normal\", activation=\"relu\")`\n",
      "/home/ec2-user/miniconda2/envs/tl/lib/python2.7/site-packages/ipykernel_launcher.py:22: UserWarning: Update your `Dense` call to the Keras 2 API: `Dense(3, kernel_initializer=\"he_normal\", activation=\"softmax\")`\n"
     ]
    },
    {
     "name": "stdout",
     "output_type": "stream",
     "text": [
      "Epoch 1/30\n",
      "136/136 [==============================] - 202s 1s/step - loss: 5.6219 - acc: 0.6498 - top_k_categorical_accuracy: 1.0000 - val_loss: 5.6147 - val_acc: 0.6517 - val_top_k_categorical_accuracy: 1.0000\n",
      "Epoch 2/30\n",
      "136/136 [==============================] - 189s 1s/step - loss: 4.7545 - acc: 0.7024 - top_k_categorical_accuracy: 1.0000 - val_loss: 0.9781 - val_acc: 0.9366 - val_top_k_categorical_accuracy: 1.0000\n",
      "Epoch 3/30\n",
      "136/136 [==============================] - 184s 1s/step - loss: 1.1233 - acc: 0.9251 - top_k_categorical_accuracy: 1.0000 - val_loss: 0.9316 - val_acc: 0.9421 - val_top_k_categorical_accuracy: 1.0000\n",
      "Epoch 4/30\n",
      "136/136 [==============================] - 185s 1s/step - loss: 0.9865 - acc: 0.9347 - top_k_categorical_accuracy: 1.0000 - val_loss: 0.9154 - val_acc: 0.9421 - val_top_k_categorical_accuracy: 1.0000\n",
      "Epoch 5/30\n",
      "136/136 [==============================] - 180s 1s/step - loss: 0.8737 - acc: 0.9419 - top_k_categorical_accuracy: 1.0000 - val_loss: 0.8537 - val_acc: 0.9449 - val_top_k_categorical_accuracy: 1.0000\n",
      "Epoch 6/30\n",
      "136/136 [==============================] - 168s 1s/step - loss: 0.7560 - acc: 0.9442 - top_k_categorical_accuracy: 1.0000 - val_loss: 0.6543 - val_acc: 0.9430 - val_top_k_categorical_accuracy: 1.0000\n",
      "Epoch 7/30\n",
      "136/136 [==============================] - 196s 1s/step - loss: 0.4701 - acc: 0.9577 - top_k_categorical_accuracy: 1.0000 - val_loss: 0.3203 - val_acc: 0.9706 - val_top_k_categorical_accuracy: 1.0000\n",
      "Epoch 8/30\n",
      "136/136 [==============================] - 179s 1s/step - loss: 0.3083 - acc: 0.9598 - top_k_categorical_accuracy: 1.0000 - val_loss: 0.2566 - val_acc: 0.9550 - val_top_k_categorical_accuracy: 1.0000\n",
      "Epoch 9/30\n",
      "136/136 [==============================] - 189s 1s/step - loss: 0.2522 - acc: 0.9637 - top_k_categorical_accuracy: 1.0000 - val_loss: 0.1956 - val_acc: 0.9586 - val_top_k_categorical_accuracy: 1.0000\n",
      "Epoch 10/30\n",
      "136/136 [==============================] - 187s 1s/step - loss: 0.2207 - acc: 0.9619 - top_k_categorical_accuracy: 1.0000 - val_loss: 0.1740 - val_acc: 0.9660 - val_top_k_categorical_accuracy: 1.0000\n",
      "Epoch 11/30\n",
      "136/136 [==============================] - 180s 1s/step - loss: 0.2145 - acc: 0.9598 - top_k_categorical_accuracy: 1.0000 - val_loss: 0.1711 - val_acc: 0.9467 - val_top_k_categorical_accuracy: 1.0000\n",
      "Epoch 12/30\n",
      "136/136 [==============================] - 181s 1s/step - loss: 0.1976 - acc: 0.9683 - top_k_categorical_accuracy: 1.0000 - val_loss: 0.1832 - val_acc: 0.9697 - val_top_k_categorical_accuracy: 1.0000\n",
      "Epoch 13/30\n",
      "136/136 [==============================] - 165s 1s/step - loss: 0.1770 - acc: 0.9651 - top_k_categorical_accuracy: 1.0000 - val_loss: 0.1660 - val_acc: 0.9577 - val_top_k_categorical_accuracy: 1.0000\n",
      "Epoch 14/30\n",
      "136/136 [==============================] - 190s 1s/step - loss: 0.1536 - acc: 0.9724 - top_k_categorical_accuracy: 1.0000 - val_loss: 0.1564 - val_acc: 0.9623 - val_top_k_categorical_accuracy: 1.0000\n",
      "Epoch 15/30\n",
      "136/136 [==============================] - 164s 1s/step - loss: 0.1510 - acc: 0.9694 - top_k_categorical_accuracy: 1.0000 - val_loss: 0.1292 - val_acc: 0.9559 - val_top_k_categorical_accuracy: 1.0000\n",
      "Epoch 16/30\n",
      "136/136 [==============================] - 176s 1s/step - loss: 0.1298 - acc: 0.9713 - top_k_categorical_accuracy: 1.0000 - val_loss: 0.1114 - val_acc: 0.9688 - val_top_k_categorical_accuracy: 1.0000\n",
      "Epoch 17/30\n",
      "136/136 [==============================] - 175s 1s/step - loss: 0.1189 - acc: 0.9729 - top_k_categorical_accuracy: 1.0000 - val_loss: 0.0899 - val_acc: 0.9715 - val_top_k_categorical_accuracy: 1.0000\n",
      "Epoch 18/30\n",
      "136/136 [==============================] - 173s 1s/step - loss: 0.1233 - acc: 0.9724 - top_k_categorical_accuracy: 1.0000 - val_loss: 0.0972 - val_acc: 0.9688 - val_top_k_categorical_accuracy: 1.0000\n",
      "Epoch 19/30\n",
      "136/136 [==============================] - 176s 1s/step - loss: 0.1243 - acc: 0.9754 - top_k_categorical_accuracy: 1.0000 - val_loss: 0.0753 - val_acc: 0.9752 - val_top_k_categorical_accuracy: 1.0000\n",
      "Epoch 20/30\n",
      "136/136 [==============================] - 164s 1s/step - loss: 0.0997 - acc: 0.9733 - top_k_categorical_accuracy: 1.0000 - val_loss: 0.0772 - val_acc: 0.9688 - val_top_k_categorical_accuracy: 1.0000\n",
      "Epoch 21/30\n",
      "136/136 [==============================] - 169s 1s/step - loss: 0.0999 - acc: 0.9756 - top_k_categorical_accuracy: 1.0000 - val_loss: 0.0728 - val_acc: 0.9752 - val_top_k_categorical_accuracy: 1.0000\n",
      "Epoch 22/30\n",
      "136/136 [==============================] - 180s 1s/step - loss: 0.0920 - acc: 0.9759 - top_k_categorical_accuracy: 1.0000 - val_loss: 0.0800 - val_acc: 0.9688 - val_top_k_categorical_accuracy: 1.0000\n",
      "Epoch 23/30\n",
      "136/136 [==============================] - 174s 1s/step - loss: 0.0956 - acc: 0.9768 - top_k_categorical_accuracy: 1.0000 - val_loss: 0.0747 - val_acc: 0.9678 - val_top_k_categorical_accuracy: 1.0000\n",
      "Epoch 24/30\n",
      "136/136 [==============================] - 171s 1s/step - loss: 0.1035 - acc: 0.9747 - top_k_categorical_accuracy: 1.0000 - val_loss: 0.0850 - val_acc: 0.9743 - val_top_k_categorical_accuracy: 1.0000\n",
      "Epoch 25/30\n",
      "136/136 [==============================] - 170s 1s/step - loss: 0.0885 - acc: 0.9777 - top_k_categorical_accuracy: 1.0000 - val_loss: 0.0764 - val_acc: 0.9715 - val_top_k_categorical_accuracy: 1.0000\n",
      "Epoch 26/30\n",
      "136/136 [==============================] - 173s 1s/step - loss: 0.1168 - acc: 0.9713 - top_k_categorical_accuracy: 1.0000 - val_loss: 0.2091 - val_acc: 0.9384 - val_top_k_categorical_accuracy: 1.0000\n",
      "Epoch 27/30\n",
      "136/136 [==============================] - 171s 1s/step - loss: 0.1092 - acc: 0.9777 - top_k_categorical_accuracy: 1.0000 - val_loss: 0.0723 - val_acc: 0.9752 - val_top_k_categorical_accuracy: 1.0000\n",
      "Epoch 28/30\n",
      "136/136 [==============================] - 182s 1s/step - loss: 0.0766 - acc: 0.9793 - top_k_categorical_accuracy: 1.0000 - val_loss: 0.0580 - val_acc: 0.9743 - val_top_k_categorical_accuracy: 1.0000\n",
      "Epoch 29/30\n",
      "136/136 [==============================] - 171s 1s/step - loss: 0.0754 - acc: 0.9786 - top_k_categorical_accuracy: 1.0000 - val_loss: 0.0652 - val_acc: 0.9789 - val_top_k_categorical_accuracy: 1.0000\n",
      "Epoch 30/30\n",
      "136/136 [==============================] - 168s 1s/step - loss: 0.0682 - acc: 0.9818 - top_k_categorical_accuracy: 1.0000 - val_loss: 0.0581 - val_acc: 0.9789 - val_top_k_categorical_accuracy: 1.0000\n"
     ]
    }
   ],
   "source": [
    "start()"
   ]
  },
  {
   "cell_type": "code",
   "execution_count": null,
   "metadata": {},
   "outputs": [],
   "source": []
  },
  {
   "cell_type": "code",
   "execution_count": null,
   "metadata": {},
   "outputs": [],
   "source": []
  }
 ],
 "metadata": {
  "kernelspec": {
   "display_name": "Python 3",
   "language": "python",
   "name": "python3"
  },
  "language_info": {
   "codemirror_mode": {
    "name": "ipython",
    "version": 2
   },
   "file_extension": ".py",
   "mimetype": "text/x-python",
   "name": "python",
   "nbconvert_exporter": "python",
   "pygments_lexer": "ipython2",
   "version": "2.7.14"
  }
 },
 "nbformat": 4,
 "nbformat_minor": 2
}
