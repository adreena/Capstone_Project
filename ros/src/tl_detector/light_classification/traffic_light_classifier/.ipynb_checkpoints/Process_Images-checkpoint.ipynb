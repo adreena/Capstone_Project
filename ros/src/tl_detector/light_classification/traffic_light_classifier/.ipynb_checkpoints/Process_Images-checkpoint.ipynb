{
 "cells": [
  {
   "cell_type": "code",
   "execution_count": 2,
   "metadata": {},
   "outputs": [
    {
     "ename": "ModuleNotFoundError",
     "evalue": "No module named 'progressbar'",
     "output_type": "error",
     "traceback": [
      "\u001b[0;31m---------------------------------------------------------------------------\u001b[0m",
      "\u001b[0;31mModuleNotFoundError\u001b[0m                       Traceback (most recent call last)",
      "\u001b[0;32m<ipython-input-2-356fe7bc8912>\u001b[0m in \u001b[0;36m<module>\u001b[0;34m()\u001b[0m\n\u001b[1;32m      4\u001b[0m \u001b[0;32mfrom\u001b[0m \u001b[0mmatplotlib\u001b[0m \u001b[0;32mimport\u001b[0m \u001b[0mpyplot\u001b[0m \u001b[0;32mas\u001b[0m \u001b[0mplt\u001b[0m\u001b[0;34m\u001b[0m\u001b[0m\n\u001b[1;32m      5\u001b[0m \u001b[0;32mimport\u001b[0m \u001b[0myaml\u001b[0m\u001b[0;34m\u001b[0m\u001b[0m\n\u001b[0;32m----> 6\u001b[0;31m \u001b[0;32mimport\u001b[0m \u001b[0mprogressbar\u001b[0m\u001b[0;34m\u001b[0m\u001b[0m\n\u001b[0m",
      "\u001b[0;31mModuleNotFoundError\u001b[0m: No module named 'progressbar'"
     ]
    }
   ],
   "source": [
    "import boto3\n",
    "import io\n",
    "from PIL import Image, ImageDraw, ImageFont\n",
    "from matplotlib import pyplot as plt\n",
    "import yaml\n",
    "import progressbar"
   ]
  },
  {
   "cell_type": "code",
   "execution_count": null,
   "metadata": {},
   "outputs": [],
   "source": [
    "s3 = boto3.resource('s3')\n",
    "\n",
    "bucket = \"capstone-trafficlights\"\n",
    "key = 'rgb/train/2015-05-29-15-29-39_arastradero_traffic_light_loop_bag/10648.png'\n",
    "\n",
    "image_obj = s3.Object(bucket, key)\n",
    "image = io.BytesIO(image_obj.get()['Body'].read())\n",
    "image = Image.open(image)\n",
    "plt.imshow(image)\n",
    "plt.show()"
   ]
  },
  {
   "cell_type": "markdown",
   "metadata": {},
   "source": [
    "# Load All Data from yaml file"
   ]
  },
  {
   "cell_type": "code",
   "execution_count": null,
   "metadata": {},
   "outputs": [],
   "source": [
    "with open(\"./train.yaml\", 'r') as stream:\n",
    "    try:\n",
    "        all_train_data = yaml.load(stream)\n",
    "    except yaml.YAMLError as exc:\n",
    "        print(exc)"
   ]
  },
  {
   "cell_type": "markdown",
   "metadata": {},
   "source": [
    "# Experiment with data"
   ]
  },
  {
   "cell_type": "code",
   "execution_count": null,
   "metadata": {
    "scrolled": false
   },
   "outputs": [],
   "source": [
    "count = 0\n",
    "font = ImageFont.truetype(\"sg-alternative.high-alt.otf\", 20)\n",
    "accepted_labels = {\"Green\":0, \"Red\":0, \"Yellow\":0}\n",
    "ignore_labels={\"GreenLeft\":0, \"GreenRight\":0, \"RedLeft\":0, \"RedRight\":0, \"YellowLeft\":0, \"YellowRight\":0, \"off\":0}\n",
    "other_labels={}\n",
    "\n",
    "for data in all_train_data:\n",
    "    \n",
    "    if len(data['boxes']) >0: # and count >25:\n",
    "        key = data['path'][2:]\n",
    "        image_obj = s3.Object(bucket, key)\n",
    "        image = io.BytesIO(image_obj.get()['Body'].read())\n",
    "        image = Image.open(image)\n",
    "        draw = ImageDraw.Draw(image)\n",
    "        for box in data['boxes']:\n",
    "#             print(box)\n",
    "            box_height = box['y_max'] - box['y_min'] \n",
    "            box_width = box['x_max'] - box['x_min'] \n",
    "            if box_height * box_width > 300:\n",
    "                if box['label'] in accepted_labels:\n",
    "                    img_cropped = image.crop((box['x_min'], box['y_min'], box['x_max'], box['y_max']))\n",
    "                    \n",
    "                    if box['label'] == \"Red\":\n",
    "                        accepted_labels['Red']+=1\n",
    "                    elif box['label'] == 'Yellow':\n",
    "                        accepted_labels['Yellow']+=1\n",
    "                    elif box['label'] == 'Green':\n",
    "                        accepted_labels['Green']+=1\n",
    "                        \n",
    "    #                 draw.rectangle(((box['x_min'],box['y_min'] ), (box['x_max'],box['y_max'])), fill=None, outline=(255, 0, 0))\n",
    "    #                 draw.text((box['x_min']-20,box['y_min']-20),box['label'],(255,0,0), font=font)\n",
    "    #                 draw.text((box['x_min']-80,box['y_min']-20),str(int(box_height * box_width)),(255,0,0), font=font)\n",
    "\n",
    "#                     plt.figure(figsize=(5,5))\n",
    "#                     plt.imshow(img_cropped)\n",
    "#                     plt.show()\n",
    "#                     print('---')\n",
    "                elif box['label'] in ignore_labels.keys():\n",
    "                    ignore_labels[box['label']]+=1\n",
    "                else:\n",
    "                    if box['label'] not in other_labels.keys():\n",
    "                        other_labels[box['label']]=0\n",
    "                    else:\n",
    "                        other_labels[box['label']]+=1\n",
    "    count+=1\n",
    "#     print('---')\n",
    "    if count ==145:\n",
    "        other_labels\n",
    "        break\n",
    "        \n",
    "print('Data Set Stats: ')\n",
    "print('Traffic Lights: ', accepted_labels)\n",
    "print('Ignore Lights: ', ignore_labels)\n",
    "print('Other Lights: ', other_labels)"
   ]
  },
  {
   "cell_type": "code",
   "execution_count": null,
   "metadata": {},
   "outputs": [],
   "source": []
  }
 ],
 "metadata": {
  "kernelspec": {
   "display_name": "Python 3",
   "language": "python",
   "name": "python3"
  },
  "language_info": {
   "codemirror_mode": {
    "name": "ipython",
    "version": 3
   },
   "file_extension": ".py",
   "mimetype": "text/x-python",
   "name": "python",
   "nbconvert_exporter": "python",
   "pygments_lexer": "ipython3",
   "version": "3.6.2"
  }
 },
 "nbformat": 4,
 "nbformat_minor": 2
}
